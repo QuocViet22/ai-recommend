{
  "metadata": {
    "language_info": {
      "codemirror_mode": {
        "name": "python",
        "version": 3
      },
      "file_extension": ".py",
      "mimetype": "text/x-python",
      "name": "python",
      "nbconvert_exporter": "python",
      "pygments_lexer": "ipython3",
      "version": "3.8"
    },
    "kernelspec": {
      "name": "python",
      "display_name": "Python (Pyodide)",
      "language": "python"
    }
  },
  "nbformat_minor": 4,
  "nbformat": 4,
  "cells": [
    {
      "cell_type": "code",
      "source": "import numpy as np # linear algebra\nimport pandas as pd # data processing, CSV file I/O (e.g. pd.read_csv)\n\n# Input data files are available in the read-only \"../input/\" directory\n# For example, running this (by clicking run or pressing Shift+Enter) will list all files under the input directory\n\nimport os\nfor dirname, _, filenames in os.walk('/kaggle/input'):\n    for filename in filenames:\n        print(os.path.join(dirname, filename))",
      "metadata": {
        "trusted": true
      },
      "execution_count": 14,
      "outputs": []
    },
    {
      "cell_type": "code",
      "source": "movies = pd.read_csv('./input/test.csv')",
      "metadata": {
        "trusted": true
      },
      "execution_count": 15,
      "outputs": []
    },
    {
      "cell_type": "code",
      "source": "movies.head(2)",
      "metadata": {
        "trusted": true
      },
      "execution_count": 16,
      "outputs": [
        {
          "execution_count": 16,
          "output_type": "execute_result",
          "data": {
            "text/plain": "   id              name                                        description\n0   1        Adidas NMD  The adidas NMD is a modern lifestyle shoe, bui...\n1   2  Adidas Superstar  The Superstar is a style of a low-top athletic...",
            "text/html": "<div>\n<style scoped>\n    .dataframe tbody tr th:only-of-type {\n        vertical-align: middle;\n    }\n\n    .dataframe tbody tr th {\n        vertical-align: top;\n    }\n\n    .dataframe thead th {\n        text-align: right;\n    }\n</style>\n<table border=\"1\" class=\"dataframe\">\n  <thead>\n    <tr style=\"text-align: right;\">\n      <th></th>\n      <th>id</th>\n      <th>name</th>\n      <th>description</th>\n    </tr>\n  </thead>\n  <tbody>\n    <tr>\n      <th>0</th>\n      <td>1</td>\n      <td>Adidas NMD</td>\n      <td>The adidas NMD is a modern lifestyle shoe, bui...</td>\n    </tr>\n    <tr>\n      <th>1</th>\n      <td>2</td>\n      <td>Adidas Superstar</td>\n      <td>The Superstar is a style of a low-top athletic...</td>\n    </tr>\n  </tbody>\n</table>\n</div>"
          },
          "metadata": {}
        }
      ]
    },
    {
      "cell_type": "code",
      "source": "movies.shape",
      "metadata": {
        "trusted": true
      },
      "execution_count": 17,
      "outputs": [
        {
          "execution_count": 17,
          "output_type": "execute_result",
          "data": {
            "text/plain": "(15, 3)"
          },
          "metadata": {}
        }
      ]
    },
    {
      "cell_type": "code",
      "source": "movies.head()",
      "metadata": {
        "trusted": true
      },
      "execution_count": 19,
      "outputs": [
        {
          "execution_count": 19,
          "output_type": "execute_result",
          "data": {
            "text/plain": "   id               name                                        description\n0   1         Adidas NMD  The adidas NMD is a modern lifestyle shoe, bui...\n1   2   Adidas Superstar  The Superstar is a style of a low-top athletic...\n2   3  Adidas Ultra Boot  The adidas Ultraboost was a major moment in th...\n3   4  Adidas XPLR White  The Adidas XPLR  is one of the most notable Ad...\n4   5   Adidas Yeezy 350  The YEEZY BOOST 350 V2 features an upper compo...",
            "text/html": "<div>\n<style scoped>\n    .dataframe tbody tr th:only-of-type {\n        vertical-align: middle;\n    }\n\n    .dataframe tbody tr th {\n        vertical-align: top;\n    }\n\n    .dataframe thead th {\n        text-align: right;\n    }\n</style>\n<table border=\"1\" class=\"dataframe\">\n  <thead>\n    <tr style=\"text-align: right;\">\n      <th></th>\n      <th>id</th>\n      <th>name</th>\n      <th>description</th>\n    </tr>\n  </thead>\n  <tbody>\n    <tr>\n      <th>0</th>\n      <td>1</td>\n      <td>Adidas NMD</td>\n      <td>The adidas NMD is a modern lifestyle shoe, bui...</td>\n    </tr>\n    <tr>\n      <th>1</th>\n      <td>2</td>\n      <td>Adidas Superstar</td>\n      <td>The Superstar is a style of a low-top athletic...</td>\n    </tr>\n    <tr>\n      <th>2</th>\n      <td>3</td>\n      <td>Adidas Ultra Boot</td>\n      <td>The adidas Ultraboost was a major moment in th...</td>\n    </tr>\n    <tr>\n      <th>3</th>\n      <td>4</td>\n      <td>Adidas XPLR White</td>\n      <td>The Adidas XPLR  is one of the most notable Ad...</td>\n    </tr>\n    <tr>\n      <th>4</th>\n      <td>5</td>\n      <td>Adidas Yeezy 350</td>\n      <td>The YEEZY BOOST 350 V2 features an upper compo...</td>\n    </tr>\n  </tbody>\n</table>\n</div>"
          },
          "metadata": {}
        }
      ]
    },
    {
      "cell_type": "code",
      "source": "from sklearn.feature_extraction.text import CountVectorizer\ncv = CountVectorizer(max_features=5000,stop_words='english')",
      "metadata": {
        "trusted": true
      },
      "execution_count": 20,
      "outputs": []
    },
    {
      "cell_type": "code",
      "source": "new = movies\nvector = cv.fit_transform(new['description']).toarray()",
      "metadata": {
        "trusted": true
      },
      "execution_count": 22,
      "outputs": []
    },
    {
      "cell_type": "code",
      "source": "vector.shape",
      "metadata": {
        "trusted": true
      },
      "execution_count": 23,
      "outputs": [
        {
          "execution_count": 23,
          "output_type": "execute_result",
          "data": {
            "text/plain": "(15, 173)"
          },
          "metadata": {}
        }
      ]
    },
    {
      "cell_type": "code",
      "source": "from sklearn.metrics.pairwise import cosine_similarity",
      "metadata": {
        "trusted": true
      },
      "execution_count": 24,
      "outputs": []
    },
    {
      "cell_type": "code",
      "source": "similarity = cosine_similarity(vector)",
      "metadata": {
        "trusted": true
      },
      "execution_count": 25,
      "outputs": []
    },
    {
      "cell_type": "code",
      "source": "similarity",
      "metadata": {
        "trusted": true
      },
      "execution_count": 26,
      "outputs": [
        {
          "execution_count": 26,
          "output_type": "execute_result",
          "data": {
            "text/plain": "array([[1.        , 0.1928473 , 0.10341754, 0.36196138, 0.        ,\n        0.0418121 , 0.        , 0.05330018, 0.        , 0.        ,\n        0.05170877, 0.        , 0.        , 0.04545455, 0.        ],\n       [0.1928473 , 1.        , 0.07312724, 0.29250897, 0.        ,\n        0.        , 0.        , 0.07537784, 0.        , 0.        ,\n        0.07312724, 0.        , 0.0836242 , 0.06428243, 0.        ],\n       [0.10341754, 0.07312724, 1.        , 0.11764706, 0.05882353,\n        0.04756515, 0.06063391, 0.        , 0.        , 0.        ,\n        0.        , 0.        , 0.        , 0.        , 0.        ],\n       [0.36196138, 0.29250897, 0.11764706, 1.        , 0.        ,\n        0.        , 0.        , 0.12126781, 0.        , 0.        ,\n        0.11764706, 0.        , 0.        , 0.10341754, 0.06482037],\n       [0.        , 0.        , 0.05882353, 0.        , 1.        ,\n        0.57078179, 0.42443734, 0.        , 0.        , 0.        ,\n        0.        , 0.13284223, 0.        , 0.15512631, 0.        ],\n       [0.0418121 , 0.        , 0.04756515, 0.        , 0.57078179,\n        1.        , 0.2941742 , 0.        , 0.        , 0.        ,\n        0.        , 0.10741723, 0.        , 0.1254363 , 0.        ],\n       [0.        , 0.        , 0.06063391, 0.        , 0.42443734,\n        0.2941742 , 1.        , 0.        , 0.10910895, 0.        ,\n        0.        , 0.09128709, 0.        , 0.15990054, 0.        ],\n       [0.05330018, 0.07537784, 0.        , 0.12126781, 0.        ,\n        0.        , 0.        , 1.        , 0.        , 0.        ,\n        0.06063391, 0.        , 0.        , 0.05330018, 0.        ],\n       [0.        , 0.        , 0.        , 0.        , 0.        ,\n        0.        , 0.10910895, 0.        , 1.        , 0.        ,\n        0.37047929, 0.07968191, 0.18156826, 0.        , 0.        ],\n       [0.        , 0.        , 0.        , 0.        , 0.        ,\n        0.        , 0.        , 0.        , 0.        , 1.        ,\n        0.        , 0.        , 0.        , 0.        , 0.        ],\n       [0.05170877, 0.07312724, 0.        , 0.11764706, 0.        ,\n        0.        , 0.        , 0.06063391, 0.37047929, 0.        ,\n        1.        , 0.30996521, 0.20180184, 0.15512631, 0.06482037],\n       [0.        , 0.        , 0.        , 0.        , 0.13284223,\n        0.10741723, 0.09128709, 0.        , 0.07968191, 0.        ,\n        0.30996521, 1.        , 0.30382181, 0.31139958, 0.19518001],\n       [0.        , 0.0836242 , 0.        , 0.        , 0.        ,\n        0.        , 0.        , 0.        , 0.18156826, 0.        ,\n        0.20180184, 0.30382181, 1.        , 0.11826248, 0.14824986],\n       [0.04545455, 0.06428243, 0.        , 0.10341754, 0.15512631,\n        0.1254363 , 0.15990054, 0.05330018, 0.        , 0.        ,\n        0.15512631, 0.31139958, 0.11826248, 1.        , 0.22792115],\n       [0.        , 0.        , 0.        , 0.06482037, 0.        ,\n        0.        , 0.        , 0.        , 0.        , 0.        ,\n        0.06482037, 0.19518001, 0.14824986, 0.22792115, 1.        ]])"
          },
          "metadata": {}
        }
      ]
    },
    {
      "cell_type": "code",
      "source": "new[new['name'] == 'Adidas NMD'].index[0]",
      "metadata": {
        "trusted": true
      },
      "execution_count": 27,
      "outputs": [
        {
          "execution_count": 27,
          "output_type": "execute_result",
          "data": {
            "text/plain": "0"
          },
          "metadata": {}
        }
      ]
    },
    {
      "cell_type": "code",
      "source": "def recommend(movie):\n    index = new[new['name'] == movie].index[0]\n    distances = sorted(list(enumerate(similarity[index])),reverse=True,key = lambda x: x[1])\n    for i in distances[1:6]:\n        print(new.iloc[i[0]].id)",
      "metadata": {
        "trusted": true
      },
      "execution_count": 34,
      "outputs": []
    },
    {
      "cell_type": "code",
      "source": "recommend('Nike Jordan 1 High Blue')",
      "metadata": {
        "trusted": true
      },
      "execution_count": 37,
      "outputs": [
        {
          "name": "stdout",
          "text": "11\n13\n7\n12\n1\n",
          "output_type": "stream"
        }
      ]
    },
    {
      "cell_type": "code",
      "source": "",
      "metadata": {},
      "execution_count": null,
      "outputs": []
    }
  ]
}